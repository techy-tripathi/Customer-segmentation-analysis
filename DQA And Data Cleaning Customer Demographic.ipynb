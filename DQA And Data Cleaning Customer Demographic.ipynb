{
 "cells": [
  {
   "cell_type": "markdown",
   "id": "cfc43d8a",
   "metadata": {},
   "source": [
    "# IMPORTING LIBRARIES"
   ]
  },
  {
   "cell_type": "code",
   "execution_count": 1,
   "id": "3cc7db7c",
   "metadata": {},
   "outputs": [],
   "source": [
    "import pandas as pd\n",
    "import numpy as np\n",
    "import matplotlib.pyplot as plt\n",
    "import seaborn as sns\n",
    "%matplotlib inline\n",
    "import warnings\n",
    "warnings.filterwarnings('ignore')\n",
    "\n",
    "from datetime import datetime, date\n",
    "plt.style.use('ggplot')"
   ]
  },
  {
   "cell_type": "markdown",
   "id": "d047fbea",
   "metadata": {},
   "source": [
    "# LOADING THE DATASETS"
   ]
  },
  {
   "cell_type": "code",
   "execution_count": 2,
   "id": "24dc411b",
   "metadata": {},
   "outputs": [],
   "source": [
    "# Loading the Customer Demographics Data from the excel file\n",
    "\n",
    "customer_demo = pd.read_excel('Raw_data.xlsx' , sheet_name='CustomerDemographic')\n"
   ]
  },
  {
   "cell_type": "markdown",
   "id": "d4a7ae42",
   "metadata": {},
   "source": [
    "# Exploratory Data Analysis And Data Cleaning"
   ]
  },
  {
   "cell_type": "code",
   "execution_count": 3,
   "id": "0cfcdd15",
   "metadata": {},
   "outputs": [
    {
     "data": {
      "text/html": [
       "<div>\n",
       "<style scoped>\n",
       "    .dataframe tbody tr th:only-of-type {\n",
       "        vertical-align: middle;\n",
       "    }\n",
       "\n",
       "    .dataframe tbody tr th {\n",
       "        vertical-align: top;\n",
       "    }\n",
       "\n",
       "    .dataframe thead th {\n",
       "        text-align: right;\n",
       "    }\n",
       "</style>\n",
       "<table border=\"1\" class=\"dataframe\">\n",
       "  <thead>\n",
       "    <tr style=\"text-align: right;\">\n",
       "      <th></th>\n",
       "      <th>customer_id</th>\n",
       "      <th>first_name</th>\n",
       "      <th>last_name</th>\n",
       "      <th>gender</th>\n",
       "      <th>past_3_years_bike_related_purchases</th>\n",
       "      <th>DOB</th>\n",
       "      <th>job_title</th>\n",
       "      <th>job_industry_category</th>\n",
       "      <th>wealth_segment</th>\n",
       "      <th>deceased_indicator</th>\n",
       "      <th>default</th>\n",
       "      <th>owns_car</th>\n",
       "      <th>tenure</th>\n",
       "    </tr>\n",
       "  </thead>\n",
       "  <tbody>\n",
       "    <tr>\n",
       "      <th>0</th>\n",
       "      <td>1</td>\n",
       "      <td>Laraine</td>\n",
       "      <td>Medendorp</td>\n",
       "      <td>F</td>\n",
       "      <td>93</td>\n",
       "      <td>1953-10-12</td>\n",
       "      <td>Executive Secretary</td>\n",
       "      <td>Health</td>\n",
       "      <td>Mass Customer</td>\n",
       "      <td>N</td>\n",
       "      <td>\"'</td>\n",
       "      <td>Yes</td>\n",
       "      <td>11.0</td>\n",
       "    </tr>\n",
       "    <tr>\n",
       "      <th>1</th>\n",
       "      <td>2</td>\n",
       "      <td>Eli</td>\n",
       "      <td>Bockman</td>\n",
       "      <td>Male</td>\n",
       "      <td>81</td>\n",
       "      <td>1980-12-16</td>\n",
       "      <td>Administrative Officer</td>\n",
       "      <td>Financial Services</td>\n",
       "      <td>Mass Customer</td>\n",
       "      <td>N</td>\n",
       "      <td>&lt;script&gt;alert('hi')&lt;/script&gt;</td>\n",
       "      <td>Yes</td>\n",
       "      <td>16.0</td>\n",
       "    </tr>\n",
       "    <tr>\n",
       "      <th>2</th>\n",
       "      <td>3</td>\n",
       "      <td>Arlin</td>\n",
       "      <td>Dearle</td>\n",
       "      <td>Male</td>\n",
       "      <td>61</td>\n",
       "      <td>1954-01-20</td>\n",
       "      <td>Recruiting Manager</td>\n",
       "      <td>Property</td>\n",
       "      <td>Mass Customer</td>\n",
       "      <td>N</td>\n",
       "      <td>2018-02-01 00:00:00</td>\n",
       "      <td>Yes</td>\n",
       "      <td>15.0</td>\n",
       "    </tr>\n",
       "    <tr>\n",
       "      <th>3</th>\n",
       "      <td>4</td>\n",
       "      <td>Talbot</td>\n",
       "      <td>NaN</td>\n",
       "      <td>Male</td>\n",
       "      <td>33</td>\n",
       "      <td>1961-10-03</td>\n",
       "      <td>NaN</td>\n",
       "      <td>IT</td>\n",
       "      <td>Mass Customer</td>\n",
       "      <td>N</td>\n",
       "      <td>() { _; } &gt;_[$($())] { touch /tmp/blns.shellsh...</td>\n",
       "      <td>No</td>\n",
       "      <td>7.0</td>\n",
       "    </tr>\n",
       "    <tr>\n",
       "      <th>4</th>\n",
       "      <td>5</td>\n",
       "      <td>Sheila-kathryn</td>\n",
       "      <td>Calton</td>\n",
       "      <td>Female</td>\n",
       "      <td>56</td>\n",
       "      <td>1977-05-13</td>\n",
       "      <td>Senior Editor</td>\n",
       "      <td>NaN</td>\n",
       "      <td>Affluent Customer</td>\n",
       "      <td>N</td>\n",
       "      <td>NIL</td>\n",
       "      <td>Yes</td>\n",
       "      <td>8.0</td>\n",
       "    </tr>\n",
       "  </tbody>\n",
       "</table>\n",
       "</div>"
      ],
      "text/plain": [
       "   customer_id      first_name  last_name  gender  \\\n",
       "0            1         Laraine  Medendorp       F   \n",
       "1            2             Eli    Bockman    Male   \n",
       "2            3           Arlin     Dearle    Male   \n",
       "3            4          Talbot        NaN    Male   \n",
       "4            5  Sheila-kathryn     Calton  Female   \n",
       "\n",
       "   past_3_years_bike_related_purchases        DOB               job_title  \\\n",
       "0                                   93 1953-10-12     Executive Secretary   \n",
       "1                                   81 1980-12-16  Administrative Officer   \n",
       "2                                   61 1954-01-20      Recruiting Manager   \n",
       "3                                   33 1961-10-03                     NaN   \n",
       "4                                   56 1977-05-13           Senior Editor   \n",
       "\n",
       "  job_industry_category     wealth_segment deceased_indicator  \\\n",
       "0                Health      Mass Customer                  N   \n",
       "1    Financial Services      Mass Customer                  N   \n",
       "2              Property      Mass Customer                  N   \n",
       "3                    IT      Mass Customer                  N   \n",
       "4                   NaN  Affluent Customer                  N   \n",
       "\n",
       "                                             default owns_car  tenure  \n",
       "0                                                 \"'      Yes    11.0  \n",
       "1                       <script>alert('hi')</script>      Yes    16.0  \n",
       "2                                2018-02-01 00:00:00      Yes    15.0  \n",
       "3  () { _; } >_[$($())] { touch /tmp/blns.shellsh...       No     7.0  \n",
       "4                                                NIL      Yes     8.0  "
      ]
     },
     "execution_count": 3,
     "metadata": {},
     "output_type": "execute_result"
    }
   ],
   "source": [
    "customer_demo.head()"
   ]
  },
  {
   "cell_type": "code",
   "execution_count": 4,
   "id": "3ad41d9c",
   "metadata": {},
   "outputs": [
    {
     "name": "stdout",
     "output_type": "stream",
     "text": [
      "<class 'pandas.core.frame.DataFrame'>\n",
      "RangeIndex: 4000 entries, 0 to 3999\n",
      "Data columns (total 13 columns):\n",
      " #   Column                               Non-Null Count  Dtype         \n",
      "---  ------                               --------------  -----         \n",
      " 0   customer_id                          4000 non-null   int64         \n",
      " 1   first_name                           4000 non-null   object        \n",
      " 2   last_name                            3875 non-null   object        \n",
      " 3   gender                               4000 non-null   object        \n",
      " 4   past_3_years_bike_related_purchases  4000 non-null   int64         \n",
      " 5   DOB                                  3913 non-null   datetime64[ns]\n",
      " 6   job_title                            3494 non-null   object        \n",
      " 7   job_industry_category                3344 non-null   object        \n",
      " 8   wealth_segment                       4000 non-null   object        \n",
      " 9   deceased_indicator                   4000 non-null   object        \n",
      " 10  default                              3698 non-null   object        \n",
      " 11  owns_car                             4000 non-null   object        \n",
      " 12  tenure                               3913 non-null   float64       \n",
      "dtypes: datetime64[ns](1), float64(1), int64(2), object(9)\n",
      "memory usage: 406.4+ KB\n"
     ]
    }
   ],
   "source": [
    "# Information of columns and data-types of Customer Demographics Data.\n",
    "\n",
    "customer_demo.info()"
   ]
  },
  {
   "cell_type": "markdown",
   "id": "277a7795",
   "metadata": {},
   "source": [
    "The data-type of columns looks fine. However here default is an irrelevent column which should be dropped / deleted from the dataset. Let's check for the data quality and apply data cleaning process where ever applicable to clean our dataset before performing any analysis."
   ]
  },
  {
   "cell_type": "markdown",
   "id": "8616b471",
   "metadata": {},
   "source": [
    "# Total Records"
   ]
  },
  {
   "cell_type": "code",
   "execution_count": 5,
   "id": "83ac8327",
   "metadata": {},
   "outputs": [
    {
     "name": "stdout",
     "output_type": "stream",
     "text": [
      "Total records (rows) in the dataset : 4000\n",
      "Total columns (features) in the dataset : 13\n"
     ]
    }
   ],
   "source": [
    "print(\"Total records (rows) in the dataset : {}\".format(customer_demo.shape[0]))\n",
    "print(\"Total columns (features) in the dataset : {}\".format(customer_demo.shape[1]))"
   ]
  },
  {
   "cell_type": "markdown",
   "id": "fbd02627",
   "metadata": {},
   "source": [
    "# Numeric Columns and Non-Numeric Columns"
   ]
  },
  {
   "cell_type": "code",
   "execution_count": 6,
   "id": "80e98eae",
   "metadata": {},
   "outputs": [
    {
     "name": "stdout",
     "output_type": "stream",
     "text": [
      "The numeric columns are : ['customer_id' 'past_3_years_bike_related_purchases' 'tenure']\n",
      "The non-numeric columns are : ['first_name' 'last_name' 'gender' 'DOB' 'job_title'\n",
      " 'job_industry_category' 'wealth_segment' 'deceased_indicator' 'default'\n",
      " 'owns_car']\n"
     ]
    }
   ],
   "source": [
    "# select numeric columns\n",
    "df_numeric = customer_demo.select_dtypes(include=[np.number])\n",
    "numeric_cols = df_numeric.columns.values\n",
    "print(\"The numeric columns are : {}\".format(numeric_cols))\n",
    "\n",
    "\n",
    "# select non-numeric columns\n",
    "df_non_numeric = customer_demo.select_dtypes(exclude=[np.number])\n",
    "non_numeric_cols = df_non_numeric.columns.values\n",
    "print(\"The non-numeric columns are : {}\".format(non_numeric_cols))"
   ]
  },
  {
   "cell_type": "markdown",
   "id": "3e531e62",
   "metadata": {},
   "source": [
    "# 1. Dropping Irrelevent Columns"
   ]
  },
  {
   "cell_type": "markdown",
   "id": "f74fb058",
   "metadata": {},
   "source": [
    "Default is an irrelevent column. Hence it should be dropped."
   ]
  },
  {
   "cell_type": "code",
   "execution_count": 7,
   "id": "c2d2e178",
   "metadata": {},
   "outputs": [],
   "source": [
    "# Dropping the default column\n",
    "\n",
    "customer_demo.drop(labels={'default'}, axis=1 , inplace=True)"
   ]
  },
  {
   "cell_type": "markdown",
   "id": "3dec2959",
   "metadata": {},
   "source": [
    "# 2. Missing Values Check"
   ]
  },
  {
   "cell_type": "markdown",
   "id": "d0cef73e",
   "metadata": {},
   "source": [
    "Checking for the presence of any missing values in the dataset. If missing values are present for a particular feature then depending upon the situation the feature may be either dropped (cases when a major amount of data is missing) or an appropiate value will be imputed in the feature column with missing values."
   ]
  },
  {
   "cell_type": "code",
   "execution_count": 8,
   "id": "d654e19b",
   "metadata": {},
   "outputs": [
    {
     "data": {
      "text/plain": [
       "customer_id                              0\n",
       "first_name                               0\n",
       "last_name                              125\n",
       "gender                                   0\n",
       "past_3_years_bike_related_purchases      0\n",
       "DOB                                     87\n",
       "job_title                              506\n",
       "job_industry_category                  656\n",
       "wealth_segment                           0\n",
       "deceased_indicator                       0\n",
       "owns_car                                 0\n",
       "tenure                                  87\n",
       "dtype: int64"
      ]
     },
     "execution_count": 8,
     "metadata": {},
     "output_type": "execute_result"
    }
   ],
   "source": [
    "# Total number of missing values\n",
    "\n",
    "customer_demo.isnull().sum()"
   ]
  },
  {
   "cell_type": "code",
   "execution_count": 9,
   "id": "0ffe00dc",
   "metadata": {},
   "outputs": [
    {
     "data": {
      "text/plain": [
       "customer_id                             0.000\n",
       "first_name                              0.000\n",
       "last_name                               3.125\n",
       "gender                                  0.000\n",
       "past_3_years_bike_related_purchases     0.000\n",
       "DOB                                     2.175\n",
       "job_title                              12.650\n",
       "job_industry_category                  16.400\n",
       "wealth_segment                          0.000\n",
       "deceased_indicator                      0.000\n",
       "owns_car                                0.000\n",
       "tenure                                  2.175\n",
       "dtype: float64"
      ]
     },
     "execution_count": 9,
     "metadata": {},
     "output_type": "execute_result"
    }
   ],
   "source": [
    "# Percentage of missing values\n",
    "\n",
    "customer_demo.isnull().mean()*100"
   ]
  },
  {
   "cell_type": "markdown",
   "id": "039a21d3",
   "metadata": {},
   "source": [
    "Here it is observed that columns like gender, DOB, job_title, job_industry_category and tenure have missing values."
   ]
  },
  {
   "cell_type": "markdown",
   "id": "44ddd2bc",
   "metadata": {},
   "source": [
    "# 2.1 Last Name"
   ]
  },
  {
   "cell_type": "code",
   "execution_count": 10,
   "id": "8c5ce8b4",
   "metadata": {},
   "outputs": [
    {
     "data": {
      "text/plain": [
       "first_name     0\n",
       "customer_id    0\n",
       "dtype: int64"
      ]
     },
     "execution_count": 10,
     "metadata": {},
     "output_type": "execute_result"
    }
   ],
   "source": [
    "# Checking for the presence of first name and customer id in records where last name is missing.\n",
    "\n",
    "customer_demo[customer_demo['last_name'].isnull()][['first_name', 'customer_id']].isnull().sum()"
   ]
  },
  {
   "cell_type": "markdown",
   "id": "70ae6518",
   "metadata": {},
   "source": [
    "Since All customers have a customer_id and First name, all the customers are identifiable. Hence it is okay for to not have a last name. Filling null last names with \"None\"."
   ]
  },
  {
   "cell_type": "code",
   "execution_count": 11,
   "id": "72005bb3",
   "metadata": {},
   "outputs": [
    {
     "data": {
      "text/html": [
       "<div>\n",
       "<style scoped>\n",
       "    .dataframe tbody tr th:only-of-type {\n",
       "        vertical-align: middle;\n",
       "    }\n",
       "\n",
       "    .dataframe tbody tr th {\n",
       "        vertical-align: top;\n",
       "    }\n",
       "\n",
       "    .dataframe thead th {\n",
       "        text-align: right;\n",
       "    }\n",
       "</style>\n",
       "<table border=\"1\" class=\"dataframe\">\n",
       "  <thead>\n",
       "    <tr style=\"text-align: right;\">\n",
       "      <th></th>\n",
       "      <th>customer_id</th>\n",
       "      <th>first_name</th>\n",
       "      <th>last_name</th>\n",
       "      <th>gender</th>\n",
       "      <th>past_3_years_bike_related_purchases</th>\n",
       "      <th>DOB</th>\n",
       "      <th>job_title</th>\n",
       "      <th>job_industry_category</th>\n",
       "      <th>wealth_segment</th>\n",
       "      <th>deceased_indicator</th>\n",
       "      <th>owns_car</th>\n",
       "      <th>tenure</th>\n",
       "    </tr>\n",
       "  </thead>\n",
       "  <tbody>\n",
       "    <tr>\n",
       "      <th>3</th>\n",
       "      <td>4</td>\n",
       "      <td>Talbot</td>\n",
       "      <td>NaN</td>\n",
       "      <td>Male</td>\n",
       "      <td>33</td>\n",
       "      <td>1961-10-03</td>\n",
       "      <td>NaN</td>\n",
       "      <td>IT</td>\n",
       "      <td>Mass Customer</td>\n",
       "      <td>N</td>\n",
       "      <td>No</td>\n",
       "      <td>7.0</td>\n",
       "    </tr>\n",
       "    <tr>\n",
       "      <th>66</th>\n",
       "      <td>67</td>\n",
       "      <td>Vernon</td>\n",
       "      <td>NaN</td>\n",
       "      <td>Male</td>\n",
       "      <td>67</td>\n",
       "      <td>1960-06-14</td>\n",
       "      <td>Web Developer II</td>\n",
       "      <td>Retail</td>\n",
       "      <td>Mass Customer</td>\n",
       "      <td>N</td>\n",
       "      <td>No</td>\n",
       "      <td>18.0</td>\n",
       "    </tr>\n",
       "    <tr>\n",
       "      <th>105</th>\n",
       "      <td>106</td>\n",
       "      <td>Glyn</td>\n",
       "      <td>NaN</td>\n",
       "      <td>Male</td>\n",
       "      <td>54</td>\n",
       "      <td>1966-07-03</td>\n",
       "      <td>Software Test Engineer III</td>\n",
       "      <td>Health</td>\n",
       "      <td>High Net Worth</td>\n",
       "      <td>N</td>\n",
       "      <td>Yes</td>\n",
       "      <td>18.0</td>\n",
       "    </tr>\n",
       "    <tr>\n",
       "      <th>138</th>\n",
       "      <td>139</td>\n",
       "      <td>Gar</td>\n",
       "      <td>NaN</td>\n",
       "      <td>Male</td>\n",
       "      <td>1</td>\n",
       "      <td>1964-07-28</td>\n",
       "      <td>Operator</td>\n",
       "      <td>Telecommunications</td>\n",
       "      <td>Affluent Customer</td>\n",
       "      <td>N</td>\n",
       "      <td>No</td>\n",
       "      <td>4.0</td>\n",
       "    </tr>\n",
       "    <tr>\n",
       "      <th>196</th>\n",
       "      <td>197</td>\n",
       "      <td>Avis</td>\n",
       "      <td>NaN</td>\n",
       "      <td>Female</td>\n",
       "      <td>32</td>\n",
       "      <td>1977-01-27</td>\n",
       "      <td>NaN</td>\n",
       "      <td>NaN</td>\n",
       "      <td>High Net Worth</td>\n",
       "      <td>N</td>\n",
       "      <td>No</td>\n",
       "      <td>5.0</td>\n",
       "    </tr>\n",
       "    <tr>\n",
       "      <th>...</th>\n",
       "      <td>...</td>\n",
       "      <td>...</td>\n",
       "      <td>...</td>\n",
       "      <td>...</td>\n",
       "      <td>...</td>\n",
       "      <td>...</td>\n",
       "      <td>...</td>\n",
       "      <td>...</td>\n",
       "      <td>...</td>\n",
       "      <td>...</td>\n",
       "      <td>...</td>\n",
       "      <td>...</td>\n",
       "    </tr>\n",
       "    <tr>\n",
       "      <th>3884</th>\n",
       "      <td>3885</td>\n",
       "      <td>Asher</td>\n",
       "      <td>NaN</td>\n",
       "      <td>Male</td>\n",
       "      <td>55</td>\n",
       "      <td>1978-06-17</td>\n",
       "      <td>Actuary</td>\n",
       "      <td>Financial Services</td>\n",
       "      <td>Mass Customer</td>\n",
       "      <td>N</td>\n",
       "      <td>Yes</td>\n",
       "      <td>8.0</td>\n",
       "    </tr>\n",
       "    <tr>\n",
       "      <th>3915</th>\n",
       "      <td>3916</td>\n",
       "      <td>Myrtia</td>\n",
       "      <td>NaN</td>\n",
       "      <td>Female</td>\n",
       "      <td>31</td>\n",
       "      <td>1958-10-17</td>\n",
       "      <td>NaN</td>\n",
       "      <td>Retail</td>\n",
       "      <td>Affluent Customer</td>\n",
       "      <td>N</td>\n",
       "      <td>Yes</td>\n",
       "      <td>17.0</td>\n",
       "    </tr>\n",
       "    <tr>\n",
       "      <th>3926</th>\n",
       "      <td>3927</td>\n",
       "      <td>Conway</td>\n",
       "      <td>NaN</td>\n",
       "      <td>Male</td>\n",
       "      <td>29</td>\n",
       "      <td>1978-01-07</td>\n",
       "      <td>Electrical Engineer</td>\n",
       "      <td>Manufacturing</td>\n",
       "      <td>Mass Customer</td>\n",
       "      <td>N</td>\n",
       "      <td>Yes</td>\n",
       "      <td>7.0</td>\n",
       "    </tr>\n",
       "    <tr>\n",
       "      <th>3961</th>\n",
       "      <td>3962</td>\n",
       "      <td>Benoit</td>\n",
       "      <td>NaN</td>\n",
       "      <td>Male</td>\n",
       "      <td>17</td>\n",
       "      <td>1977-10-06</td>\n",
       "      <td>Project Manager</td>\n",
       "      <td>Argiculture</td>\n",
       "      <td>High Net Worth</td>\n",
       "      <td>N</td>\n",
       "      <td>Yes</td>\n",
       "      <td>14.0</td>\n",
       "    </tr>\n",
       "    <tr>\n",
       "      <th>3998</th>\n",
       "      <td>3999</td>\n",
       "      <td>Patrizius</td>\n",
       "      <td>NaN</td>\n",
       "      <td>Male</td>\n",
       "      <td>11</td>\n",
       "      <td>1973-10-24</td>\n",
       "      <td>NaN</td>\n",
       "      <td>Manufacturing</td>\n",
       "      <td>Affluent Customer</td>\n",
       "      <td>N</td>\n",
       "      <td>Yes</td>\n",
       "      <td>10.0</td>\n",
       "    </tr>\n",
       "  </tbody>\n",
       "</table>\n",
       "<p>125 rows × 12 columns</p>\n",
       "</div>"
      ],
      "text/plain": [
       "      customer_id first_name last_name  gender  \\\n",
       "3               4     Talbot       NaN    Male   \n",
       "66             67     Vernon       NaN    Male   \n",
       "105           106       Glyn       NaN    Male   \n",
       "138           139        Gar       NaN    Male   \n",
       "196           197       Avis       NaN  Female   \n",
       "...           ...        ...       ...     ...   \n",
       "3884         3885      Asher       NaN    Male   \n",
       "3915         3916     Myrtia       NaN  Female   \n",
       "3926         3927     Conway       NaN    Male   \n",
       "3961         3962     Benoit       NaN    Male   \n",
       "3998         3999  Patrizius       NaN    Male   \n",
       "\n",
       "      past_3_years_bike_related_purchases        DOB  \\\n",
       "3                                      33 1961-10-03   \n",
       "66                                     67 1960-06-14   \n",
       "105                                    54 1966-07-03   \n",
       "138                                     1 1964-07-28   \n",
       "196                                    32 1977-01-27   \n",
       "...                                   ...        ...   \n",
       "3884                                   55 1978-06-17   \n",
       "3915                                   31 1958-10-17   \n",
       "3926                                   29 1978-01-07   \n",
       "3961                                   17 1977-10-06   \n",
       "3998                                   11 1973-10-24   \n",
       "\n",
       "                       job_title job_industry_category     wealth_segment  \\\n",
       "3                            NaN                    IT      Mass Customer   \n",
       "66              Web Developer II                Retail      Mass Customer   \n",
       "105   Software Test Engineer III                Health     High Net Worth   \n",
       "138                     Operator    Telecommunications  Affluent Customer   \n",
       "196                          NaN                   NaN     High Net Worth   \n",
       "...                          ...                   ...                ...   \n",
       "3884                     Actuary    Financial Services      Mass Customer   \n",
       "3915                         NaN                Retail  Affluent Customer   \n",
       "3926         Electrical Engineer         Manufacturing      Mass Customer   \n",
       "3961             Project Manager           Argiculture     High Net Worth   \n",
       "3998                         NaN         Manufacturing  Affluent Customer   \n",
       "\n",
       "     deceased_indicator owns_car  tenure  \n",
       "3                     N       No     7.0  \n",
       "66                    N       No    18.0  \n",
       "105                   N      Yes    18.0  \n",
       "138                   N       No     4.0  \n",
       "196                   N       No     5.0  \n",
       "...                 ...      ...     ...  \n",
       "3884                  N      Yes     8.0  \n",
       "3915                  N      Yes    17.0  \n",
       "3926                  N      Yes     7.0  \n",
       "3961                  N      Yes    14.0  \n",
       "3998                  N      Yes    10.0  \n",
       "\n",
       "[125 rows x 12 columns]"
      ]
     },
     "execution_count": 11,
     "metadata": {},
     "output_type": "execute_result"
    }
   ],
   "source": [
    "# Fetching records where last name is missing.\n",
    "\n",
    "customer_demo[customer_demo['last_name'].isnull()]"
   ]
  },
  {
   "cell_type": "code",
   "execution_count": 12,
   "id": "ce71b467",
   "metadata": {},
   "outputs": [],
   "source": [
    "customer_demo['last_name'].fillna('None',axis=0, inplace=True)"
   ]
  },
  {
   "cell_type": "code",
   "execution_count": 13,
   "id": "9134226d",
   "metadata": {},
   "outputs": [
    {
     "data": {
      "text/plain": [
       "0"
      ]
     },
     "execution_count": 13,
     "metadata": {},
     "output_type": "execute_result"
    }
   ],
   "source": [
    "customer_demo['last_name'].isnull().sum()"
   ]
  },
  {
   "cell_type": "markdown",
   "id": "84d9a5bb",
   "metadata": {},
   "source": [
    "Currently there are no missing values for last name column."
   ]
  },
  {
   "cell_type": "markdown",
   "id": "5ed3080e",
   "metadata": {},
   "source": [
    "# 2.2 Date of Birth"
   ]
  },
  {
   "cell_type": "code",
   "execution_count": 14,
   "id": "2b5803fe",
   "metadata": {},
   "outputs": [
    {
     "data": {
      "text/html": [
       "<div>\n",
       "<style scoped>\n",
       "    .dataframe tbody tr th:only-of-type {\n",
       "        vertical-align: middle;\n",
       "    }\n",
       "\n",
       "    .dataframe tbody tr th {\n",
       "        vertical-align: top;\n",
       "    }\n",
       "\n",
       "    .dataframe thead th {\n",
       "        text-align: right;\n",
       "    }\n",
       "</style>\n",
       "<table border=\"1\" class=\"dataframe\">\n",
       "  <thead>\n",
       "    <tr style=\"text-align: right;\">\n",
       "      <th></th>\n",
       "      <th>customer_id</th>\n",
       "      <th>first_name</th>\n",
       "      <th>last_name</th>\n",
       "      <th>gender</th>\n",
       "      <th>past_3_years_bike_related_purchases</th>\n",
       "      <th>DOB</th>\n",
       "      <th>job_title</th>\n",
       "      <th>job_industry_category</th>\n",
       "      <th>wealth_segment</th>\n",
       "      <th>deceased_indicator</th>\n",
       "      <th>owns_car</th>\n",
       "      <th>tenure</th>\n",
       "    </tr>\n",
       "  </thead>\n",
       "  <tbody>\n",
       "    <tr>\n",
       "      <th>143</th>\n",
       "      <td>144</td>\n",
       "      <td>Jory</td>\n",
       "      <td>Barrabeale</td>\n",
       "      <td>U</td>\n",
       "      <td>71</td>\n",
       "      <td>NaT</td>\n",
       "      <td>Environmental Tech</td>\n",
       "      <td>IT</td>\n",
       "      <td>Mass Customer</td>\n",
       "      <td>N</td>\n",
       "      <td>No</td>\n",
       "      <td>NaN</td>\n",
       "    </tr>\n",
       "    <tr>\n",
       "      <th>167</th>\n",
       "      <td>168</td>\n",
       "      <td>Reggie</td>\n",
       "      <td>Broggetti</td>\n",
       "      <td>U</td>\n",
       "      <td>8</td>\n",
       "      <td>NaT</td>\n",
       "      <td>General Manager</td>\n",
       "      <td>IT</td>\n",
       "      <td>Affluent Customer</td>\n",
       "      <td>N</td>\n",
       "      <td>Yes</td>\n",
       "      <td>NaN</td>\n",
       "    </tr>\n",
       "    <tr>\n",
       "      <th>266</th>\n",
       "      <td>267</td>\n",
       "      <td>Edgar</td>\n",
       "      <td>Buckler</td>\n",
       "      <td>U</td>\n",
       "      <td>53</td>\n",
       "      <td>NaT</td>\n",
       "      <td>NaN</td>\n",
       "      <td>IT</td>\n",
       "      <td>High Net Worth</td>\n",
       "      <td>N</td>\n",
       "      <td>No</td>\n",
       "      <td>NaN</td>\n",
       "    </tr>\n",
       "    <tr>\n",
       "      <th>289</th>\n",
       "      <td>290</td>\n",
       "      <td>Giorgio</td>\n",
       "      <td>Kevane</td>\n",
       "      <td>U</td>\n",
       "      <td>42</td>\n",
       "      <td>NaT</td>\n",
       "      <td>Senior Sales Associate</td>\n",
       "      <td>IT</td>\n",
       "      <td>Mass Customer</td>\n",
       "      <td>N</td>\n",
       "      <td>No</td>\n",
       "      <td>NaN</td>\n",
       "    </tr>\n",
       "    <tr>\n",
       "      <th>450</th>\n",
       "      <td>451</td>\n",
       "      <td>Marlow</td>\n",
       "      <td>Flowerdew</td>\n",
       "      <td>U</td>\n",
       "      <td>37</td>\n",
       "      <td>NaT</td>\n",
       "      <td>Quality Control Specialist</td>\n",
       "      <td>IT</td>\n",
       "      <td>High Net Worth</td>\n",
       "      <td>N</td>\n",
       "      <td>No</td>\n",
       "      <td>NaN</td>\n",
       "    </tr>\n",
       "    <tr>\n",
       "      <th>...</th>\n",
       "      <td>...</td>\n",
       "      <td>...</td>\n",
       "      <td>...</td>\n",
       "      <td>...</td>\n",
       "      <td>...</td>\n",
       "      <td>...</td>\n",
       "      <td>...</td>\n",
       "      <td>...</td>\n",
       "      <td>...</td>\n",
       "      <td>...</td>\n",
       "      <td>...</td>\n",
       "      <td>...</td>\n",
       "    </tr>\n",
       "    <tr>\n",
       "      <th>3778</th>\n",
       "      <td>3779</td>\n",
       "      <td>Ulick</td>\n",
       "      <td>Daspar</td>\n",
       "      <td>U</td>\n",
       "      <td>68</td>\n",
       "      <td>NaT</td>\n",
       "      <td>NaN</td>\n",
       "      <td>IT</td>\n",
       "      <td>Affluent Customer</td>\n",
       "      <td>N</td>\n",
       "      <td>No</td>\n",
       "      <td>NaN</td>\n",
       "    </tr>\n",
       "    <tr>\n",
       "      <th>3882</th>\n",
       "      <td>3883</td>\n",
       "      <td>Nissa</td>\n",
       "      <td>Conrad</td>\n",
       "      <td>U</td>\n",
       "      <td>35</td>\n",
       "      <td>NaT</td>\n",
       "      <td>Legal Assistant</td>\n",
       "      <td>IT</td>\n",
       "      <td>Mass Customer</td>\n",
       "      <td>N</td>\n",
       "      <td>No</td>\n",
       "      <td>NaN</td>\n",
       "    </tr>\n",
       "    <tr>\n",
       "      <th>3930</th>\n",
       "      <td>3931</td>\n",
       "      <td>Kylie</td>\n",
       "      <td>Epine</td>\n",
       "      <td>U</td>\n",
       "      <td>19</td>\n",
       "      <td>NaT</td>\n",
       "      <td>NaN</td>\n",
       "      <td>IT</td>\n",
       "      <td>High Net Worth</td>\n",
       "      <td>N</td>\n",
       "      <td>Yes</td>\n",
       "      <td>NaN</td>\n",
       "    </tr>\n",
       "    <tr>\n",
       "      <th>3934</th>\n",
       "      <td>3935</td>\n",
       "      <td>Teodor</td>\n",
       "      <td>Alfonsini</td>\n",
       "      <td>U</td>\n",
       "      <td>72</td>\n",
       "      <td>NaT</td>\n",
       "      <td>NaN</td>\n",
       "      <td>IT</td>\n",
       "      <td>High Net Worth</td>\n",
       "      <td>N</td>\n",
       "      <td>Yes</td>\n",
       "      <td>NaN</td>\n",
       "    </tr>\n",
       "    <tr>\n",
       "      <th>3997</th>\n",
       "      <td>3998</td>\n",
       "      <td>Sarene</td>\n",
       "      <td>Woolley</td>\n",
       "      <td>U</td>\n",
       "      <td>60</td>\n",
       "      <td>NaT</td>\n",
       "      <td>Assistant Manager</td>\n",
       "      <td>IT</td>\n",
       "      <td>High Net Worth</td>\n",
       "      <td>N</td>\n",
       "      <td>No</td>\n",
       "      <td>NaN</td>\n",
       "    </tr>\n",
       "  </tbody>\n",
       "</table>\n",
       "<p>87 rows × 12 columns</p>\n",
       "</div>"
      ],
      "text/plain": [
       "      customer_id first_name   last_name gender  \\\n",
       "143           144       Jory  Barrabeale      U   \n",
       "167           168     Reggie   Broggetti      U   \n",
       "266           267      Edgar     Buckler      U   \n",
       "289           290    Giorgio      Kevane      U   \n",
       "450           451     Marlow   Flowerdew      U   \n",
       "...           ...        ...         ...    ...   \n",
       "3778         3779      Ulick      Daspar      U   \n",
       "3882         3883      Nissa      Conrad      U   \n",
       "3930         3931      Kylie       Epine      U   \n",
       "3934         3935     Teodor   Alfonsini      U   \n",
       "3997         3998     Sarene     Woolley      U   \n",
       "\n",
       "      past_3_years_bike_related_purchases DOB                   job_title  \\\n",
       "143                                    71 NaT          Environmental Tech   \n",
       "167                                     8 NaT             General Manager   \n",
       "266                                    53 NaT                         NaN   \n",
       "289                                    42 NaT      Senior Sales Associate   \n",
       "450                                    37 NaT  Quality Control Specialist   \n",
       "...                                   ...  ..                         ...   \n",
       "3778                                   68 NaT                         NaN   \n",
       "3882                                   35 NaT             Legal Assistant   \n",
       "3930                                   19 NaT                         NaN   \n",
       "3934                                   72 NaT                         NaN   \n",
       "3997                                   60 NaT           Assistant Manager   \n",
       "\n",
       "     job_industry_category     wealth_segment deceased_indicator owns_car  \\\n",
       "143                     IT      Mass Customer                  N       No   \n",
       "167                     IT  Affluent Customer                  N      Yes   \n",
       "266                     IT     High Net Worth                  N       No   \n",
       "289                     IT      Mass Customer                  N       No   \n",
       "450                     IT     High Net Worth                  N       No   \n",
       "...                    ...                ...                ...      ...   \n",
       "3778                    IT  Affluent Customer                  N       No   \n",
       "3882                    IT      Mass Customer                  N       No   \n",
       "3930                    IT     High Net Worth                  N      Yes   \n",
       "3934                    IT     High Net Worth                  N      Yes   \n",
       "3997                    IT     High Net Worth                  N       No   \n",
       "\n",
       "      tenure  \n",
       "143      NaN  \n",
       "167      NaN  \n",
       "266      NaN  \n",
       "289      NaN  \n",
       "450      NaN  \n",
       "...      ...  \n",
       "3778     NaN  \n",
       "3882     NaN  \n",
       "3930     NaN  \n",
       "3934     NaN  \n",
       "3997     NaN  \n",
       "\n",
       "[87 rows x 12 columns]"
      ]
     },
     "execution_count": 14,
     "metadata": {},
     "output_type": "execute_result"
    }
   ],
   "source": [
    "customer_demo[customer_demo['DOB'].isnull()]"
   ]
  },
  {
   "cell_type": "code",
   "execution_count": 15,
   "id": "4f152166",
   "metadata": {},
   "outputs": [
    {
     "data": {
      "text/plain": [
       "2"
      ]
     },
     "execution_count": 15,
     "metadata": {},
     "output_type": "execute_result"
    }
   ],
   "source": [
    "round(customer_demo['DOB'].isnull().mean()*100)"
   ]
  },
  {
   "cell_type": "markdown",
   "id": "21aef921",
   "metadata": {},
   "source": [
    "Since less than 5 % of data has null date of birth. we can remove the records where date of birth is null."
   ]
  },
  {
   "cell_type": "code",
   "execution_count": 16,
   "id": "395a59a7",
   "metadata": {},
   "outputs": [
    {
     "data": {
      "text/plain": [
       "Int64Index([ 143,  167,  266,  289,  450,  452,  453,  479,  512,  525,  547,\n",
       "             581,  598,  679,  684,  798,  838,  882,  891,  949,  974,  982,\n",
       "             995, 1037, 1043, 1081, 1173, 1209, 1243, 1350, 1476, 1508, 1582,\n",
       "            1627, 1682, 1739, 1772, 1779, 1805, 1917, 1937, 1989, 1999, 2020,\n",
       "            2068, 2164, 2204, 2251, 2294, 2334, 2340, 2413, 2425, 2468, 2539,\n",
       "            2641, 2646, 2695, 2696, 2853, 2919, 2962, 2998, 3011, 3085, 3150,\n",
       "            3221, 3222, 3254, 3287, 3297, 3311, 3321, 3342, 3364, 3472, 3509,\n",
       "            3512, 3564, 3653, 3717, 3726, 3778, 3882, 3930, 3934, 3997],\n",
       "           dtype='int64')"
      ]
     },
     "execution_count": 16,
     "metadata": {},
     "output_type": "execute_result"
    }
   ],
   "source": [
    "dob_index_drop = customer_demo[customer_demo['DOB'].isnull()].index\n",
    "dob_index_drop"
   ]
  },
  {
   "cell_type": "code",
   "execution_count": 17,
   "id": "5283e073",
   "metadata": {},
   "outputs": [],
   "source": [
    "customer_demo.drop(index=dob_index_drop, inplace=True, axis=0)"
   ]
  },
  {
   "cell_type": "code",
   "execution_count": 18,
   "id": "be405b5f",
   "metadata": {},
   "outputs": [
    {
     "data": {
      "text/plain": [
       "0"
      ]
     },
     "execution_count": 18,
     "metadata": {},
     "output_type": "execute_result"
    }
   ],
   "source": [
    "customer_demo['DOB'].isnull().sum()"
   ]
  },
  {
   "cell_type": "markdown",
   "id": "93e092ab",
   "metadata": {},
   "source": [
    "Currently there are no missing values for DOB column."
   ]
  },
  {
   "cell_type": "markdown",
   "id": "d2471731",
   "metadata": {},
   "source": [
    "# Creating Age Column for checking further descripency in data"
   ]
  },
  {
   "cell_type": "code",
   "execution_count": 19,
   "id": "04ace07f",
   "metadata": {},
   "outputs": [],
   "source": [
    "# Function to calculate the age as of today based on the DOB of the customer.\n",
    "\n",
    "def age(born):\n",
    "    today = date.today()\n",
    "    \n",
    "    return today.year - born.year - ((today.month, today.day) < (born.month, born.day))\n",
    "\n",
    "customer_demo['Age'] = customer_demo['DOB'].apply(age)"
   ]
  },
  {
   "cell_type": "markdown",
   "id": "35b86917",
   "metadata": {},
   "source": [
    "# Statistics of the Age column"
   ]
  },
  {
   "cell_type": "code",
   "execution_count": 20,
   "id": "ac5ae6fd",
   "metadata": {},
   "outputs": [
    {
     "data": {
      "text/plain": [
       "count    3913.000000\n",
       "mean       45.362893\n",
       "std        12.799647\n",
       "min        21.000000\n",
       "25%        36.000000\n",
       "50%        45.000000\n",
       "75%        55.000000\n",
       "max       179.000000\n",
       "Name: Age, dtype: float64"
      ]
     },
     "execution_count": 20,
     "metadata": {},
     "output_type": "execute_result"
    }
   ],
   "source": [
    "customer_demo['Age'].describe()"
   ]
  },
  {
   "cell_type": "markdown",
   "id": "e4acf1a5",
   "metadata": {},
   "source": [
    "Here we find there is only 1 customer with an age of 179. Clearly this is an outlier since the 75th percentile of Age is 53."
   ]
  },
  {
   "cell_type": "code",
   "execution_count": 21,
   "id": "46113462",
   "metadata": {},
   "outputs": [
    {
     "data": {
      "text/html": [
       "<div>\n",
       "<style scoped>\n",
       "    .dataframe tbody tr th:only-of-type {\n",
       "        vertical-align: middle;\n",
       "    }\n",
       "\n",
       "    .dataframe tbody tr th {\n",
       "        vertical-align: top;\n",
       "    }\n",
       "\n",
       "    .dataframe thead th {\n",
       "        text-align: right;\n",
       "    }\n",
       "</style>\n",
       "<table border=\"1\" class=\"dataframe\">\n",
       "  <thead>\n",
       "    <tr style=\"text-align: right;\">\n",
       "      <th></th>\n",
       "      <th>customer_id</th>\n",
       "      <th>first_name</th>\n",
       "      <th>last_name</th>\n",
       "      <th>gender</th>\n",
       "      <th>past_3_years_bike_related_purchases</th>\n",
       "      <th>DOB</th>\n",
       "      <th>job_title</th>\n",
       "      <th>job_industry_category</th>\n",
       "      <th>wealth_segment</th>\n",
       "      <th>deceased_indicator</th>\n",
       "      <th>owns_car</th>\n",
       "      <th>tenure</th>\n",
       "      <th>Age</th>\n",
       "    </tr>\n",
       "  </thead>\n",
       "  <tbody>\n",
       "    <tr>\n",
       "      <th>33</th>\n",
       "      <td>34</td>\n",
       "      <td>Jephthah</td>\n",
       "      <td>Bachmann</td>\n",
       "      <td>U</td>\n",
       "      <td>59</td>\n",
       "      <td>1843-12-21</td>\n",
       "      <td>Legal Assistant</td>\n",
       "      <td>IT</td>\n",
       "      <td>Affluent Customer</td>\n",
       "      <td>N</td>\n",
       "      <td>No</td>\n",
       "      <td>20.0</td>\n",
       "      <td>179</td>\n",
       "    </tr>\n",
       "  </tbody>\n",
       "</table>\n",
       "</div>"
      ],
      "text/plain": [
       "    customer_id first_name last_name gender  \\\n",
       "33           34   Jephthah  Bachmann      U   \n",
       "\n",
       "    past_3_years_bike_related_purchases        DOB        job_title  \\\n",
       "33                                   59 1843-12-21  Legal Assistant   \n",
       "\n",
       "   job_industry_category     wealth_segment deceased_indicator owns_car  \\\n",
       "33                    IT  Affluent Customer                  N       No   \n",
       "\n",
       "    tenure  Age  \n",
       "33    20.0  179  "
      ]
     },
     "execution_count": 21,
     "metadata": {},
     "output_type": "execute_result"
    }
   ],
   "source": [
    "customer_demo[customer_demo['Age'] > 100]"
   ]
  },
  {
   "cell_type": "code",
   "execution_count": 22,
   "id": "e9b37f44",
   "metadata": {},
   "outputs": [],
   "source": [
    "age_index_drop = customer_demo[customer_demo['Age']>100].index\n",
    "\n",
    "customer_demo.drop(index=age_index_drop, inplace=True , axis=0)"
   ]
  },
  {
   "cell_type": "code",
   "execution_count": 23,
   "id": "201b78d7",
   "metadata": {},
   "outputs": [
    {
     "data": {
      "text/plain": [
       "<AxesSubplot:xlabel='Age'>"
      ]
     },
     "execution_count": 23,
     "metadata": {},
     "output_type": "execute_result"
    },
    {
     "data": {
      "image/png": "[encoded data removed]",
      "text/plain": [
       "<Figure size 2000x800 with 1 Axes>"
      ]
     },
     "metadata": {},
     "output_type": "display_data"
    }
   ],
   "source": [
    "# Viz to find out the Age Distribution\n",
    "\n",
    "plt.figure(figsize=(20,8))\n",
    "sns.distplot(customer_demo['Age'], kde=False, bins=50)"
   ]
  },
  {
   "cell_type": "markdown",
   "id": "b8dddbbc",
   "metadata": {},
   "source": [
    "# 2.3 Tenure"
   ]
  },
  {
   "cell_type": "markdown",
   "id": "c5a4f2cb",
   "metadata": {},
   "source": [
    "When Date of Birth was Null the Tenure was also Null. Hence after removing null DOBs from dataframe , null tenures were also removed."
   ]
  },
  {
   "cell_type": "code",
   "execution_count": 24,
   "id": "826386ef",
   "metadata": {},
   "outputs": [
    {
     "data": {
      "text/plain": [
       "0"
      ]
     },
     "execution_count": 24,
     "metadata": {},
     "output_type": "execute_result"
    }
   ],
   "source": [
    "customer_demo['tenure'].isnull().sum()"
   ]
  },
  {
   "cell_type": "markdown",
   "id": "b9b2e1f6",
   "metadata": {},
   "source": [
    "There are no missing values for Tenure column."
   ]
  },
  {
   "cell_type": "markdown",
   "id": "75070c70",
   "metadata": {},
   "source": [
    "# 2.4 Job Title"
   ]
  },
  {
   "cell_type": "code",
   "execution_count": 25,
   "id": "5cd4d356",
   "metadata": {},
   "outputs": [
    {
     "data": {
      "text/html": [
       "<div>\n",
       "<style scoped>\n",
       "    .dataframe tbody tr th:only-of-type {\n",
       "        vertical-align: middle;\n",
       "    }\n",
       "\n",
       "    .dataframe tbody tr th {\n",
       "        vertical-align: top;\n",
       "    }\n",
       "\n",
       "    .dataframe thead th {\n",
       "        text-align: right;\n",
       "    }\n",
       "</style>\n",
       "<table border=\"1\" class=\"dataframe\">\n",
       "  <thead>\n",
       "    <tr style=\"text-align: right;\">\n",
       "      <th></th>\n",
       "      <th>customer_id</th>\n",
       "      <th>first_name</th>\n",
       "      <th>last_name</th>\n",
       "      <th>gender</th>\n",
       "      <th>past_3_years_bike_related_purchases</th>\n",
       "      <th>DOB</th>\n",
       "      <th>job_title</th>\n",
       "      <th>job_industry_category</th>\n",
       "      <th>wealth_segment</th>\n",
       "      <th>deceased_indicator</th>\n",
       "      <th>owns_car</th>\n",
       "      <th>tenure</th>\n",
       "      <th>Age</th>\n",
       "    </tr>\n",
       "  </thead>\n",
       "  <tbody>\n",
       "    <tr>\n",
       "      <th>3</th>\n",
       "      <td>4</td>\n",
       "      <td>Talbot</td>\n",
       "      <td>None</td>\n",
       "      <td>Male</td>\n",
       "      <td>33</td>\n",
       "      <td>1961-10-03</td>\n",
       "      <td>NaN</td>\n",
       "      <td>IT</td>\n",
       "      <td>Mass Customer</td>\n",
       "      <td>N</td>\n",
       "      <td>No</td>\n",
       "      <td>7.0</td>\n",
       "      <td>61</td>\n",
       "    </tr>\n",
       "    <tr>\n",
       "      <th>5</th>\n",
       "      <td>6</td>\n",
       "      <td>Curr</td>\n",
       "      <td>Duckhouse</td>\n",
       "      <td>Male</td>\n",
       "      <td>35</td>\n",
       "      <td>1966-09-16</td>\n",
       "      <td>NaN</td>\n",
       "      <td>Retail</td>\n",
       "      <td>High Net Worth</td>\n",
       "      <td>N</td>\n",
       "      <td>Yes</td>\n",
       "      <td>13.0</td>\n",
       "      <td>56</td>\n",
       "    </tr>\n",
       "    <tr>\n",
       "      <th>6</th>\n",
       "      <td>7</td>\n",
       "      <td>Fina</td>\n",
       "      <td>Merali</td>\n",
       "      <td>Female</td>\n",
       "      <td>6</td>\n",
       "      <td>1976-02-23</td>\n",
       "      <td>NaN</td>\n",
       "      <td>Financial Services</td>\n",
       "      <td>Affluent Customer</td>\n",
       "      <td>N</td>\n",
       "      <td>Yes</td>\n",
       "      <td>11.0</td>\n",
       "      <td>47</td>\n",
       "    </tr>\n",
       "    <tr>\n",
       "      <th>10</th>\n",
       "      <td>11</td>\n",
       "      <td>Uriah</td>\n",
       "      <td>Bisatt</td>\n",
       "      <td>Male</td>\n",
       "      <td>99</td>\n",
       "      <td>1954-04-30</td>\n",
       "      <td>NaN</td>\n",
       "      <td>Property</td>\n",
       "      <td>Mass Customer</td>\n",
       "      <td>N</td>\n",
       "      <td>No</td>\n",
       "      <td>9.0</td>\n",
       "      <td>69</td>\n",
       "    </tr>\n",
       "    <tr>\n",
       "      <th>21</th>\n",
       "      <td>22</td>\n",
       "      <td>Deeanne</td>\n",
       "      <td>Durtnell</td>\n",
       "      <td>Female</td>\n",
       "      <td>79</td>\n",
       "      <td>1962-12-10</td>\n",
       "      <td>NaN</td>\n",
       "      <td>IT</td>\n",
       "      <td>Mass Customer</td>\n",
       "      <td>N</td>\n",
       "      <td>No</td>\n",
       "      <td>11.0</td>\n",
       "      <td>60</td>\n",
       "    </tr>\n",
       "    <tr>\n",
       "      <th>...</th>\n",
       "      <td>...</td>\n",
       "      <td>...</td>\n",
       "      <td>...</td>\n",
       "      <td>...</td>\n",
       "      <td>...</td>\n",
       "      <td>...</td>\n",
       "      <td>...</td>\n",
       "      <td>...</td>\n",
       "      <td>...</td>\n",
       "      <td>...</td>\n",
       "      <td>...</td>\n",
       "      <td>...</td>\n",
       "      <td>...</td>\n",
       "    </tr>\n",
       "    <tr>\n",
       "      <th>3967</th>\n",
       "      <td>3968</td>\n",
       "      <td>Alexandra</td>\n",
       "      <td>Kroch</td>\n",
       "      <td>Female</td>\n",
       "      <td>99</td>\n",
       "      <td>1977-12-22</td>\n",
       "      <td>NaN</td>\n",
       "      <td>Property</td>\n",
       "      <td>High Net Worth</td>\n",
       "      <td>N</td>\n",
       "      <td>No</td>\n",
       "      <td>22.0</td>\n",
       "      <td>45</td>\n",
       "    </tr>\n",
       "    <tr>\n",
       "      <th>3971</th>\n",
       "      <td>3972</td>\n",
       "      <td>Maribelle</td>\n",
       "      <td>Schaffel</td>\n",
       "      <td>Female</td>\n",
       "      <td>6</td>\n",
       "      <td>1979-03-28</td>\n",
       "      <td>NaN</td>\n",
       "      <td>Retail</td>\n",
       "      <td>Mass Customer</td>\n",
       "      <td>N</td>\n",
       "      <td>No</td>\n",
       "      <td>8.0</td>\n",
       "      <td>44</td>\n",
       "    </tr>\n",
       "    <tr>\n",
       "      <th>3978</th>\n",
       "      <td>3979</td>\n",
       "      <td>Kleon</td>\n",
       "      <td>Adam</td>\n",
       "      <td>Male</td>\n",
       "      <td>67</td>\n",
       "      <td>1974-07-13</td>\n",
       "      <td>NaN</td>\n",
       "      <td>Financial Services</td>\n",
       "      <td>Mass Customer</td>\n",
       "      <td>N</td>\n",
       "      <td>Yes</td>\n",
       "      <td>18.0</td>\n",
       "      <td>48</td>\n",
       "    </tr>\n",
       "    <tr>\n",
       "      <th>3986</th>\n",
       "      <td>3987</td>\n",
       "      <td>Beckie</td>\n",
       "      <td>Wakeham</td>\n",
       "      <td>Female</td>\n",
       "      <td>18</td>\n",
       "      <td>1964-05-29</td>\n",
       "      <td>NaN</td>\n",
       "      <td>Argiculture</td>\n",
       "      <td>Mass Customer</td>\n",
       "      <td>N</td>\n",
       "      <td>No</td>\n",
       "      <td>7.0</td>\n",
       "      <td>58</td>\n",
       "    </tr>\n",
       "    <tr>\n",
       "      <th>3998</th>\n",
       "      <td>3999</td>\n",
       "      <td>Patrizius</td>\n",
       "      <td>None</td>\n",
       "      <td>Male</td>\n",
       "      <td>11</td>\n",
       "      <td>1973-10-24</td>\n",
       "      <td>NaN</td>\n",
       "      <td>Manufacturing</td>\n",
       "      <td>Affluent Customer</td>\n",
       "      <td>N</td>\n",
       "      <td>Yes</td>\n",
       "      <td>10.0</td>\n",
       "      <td>49</td>\n",
       "    </tr>\n",
       "  </tbody>\n",
       "</table>\n",
       "<p>497 rows × 13 columns</p>\n",
       "</div>"
      ],
      "text/plain": [
       "      customer_id first_name  last_name  gender  \\\n",
       "3               4     Talbot       None    Male   \n",
       "5               6       Curr  Duckhouse    Male   \n",
       "6               7       Fina     Merali  Female   \n",
       "10             11      Uriah     Bisatt    Male   \n",
       "21             22    Deeanne   Durtnell  Female   \n",
       "...           ...        ...        ...     ...   \n",
       "3967         3968  Alexandra      Kroch  Female   \n",
       "3971         3972  Maribelle   Schaffel  Female   \n",
       "3978         3979      Kleon       Adam    Male   \n",
       "3986         3987     Beckie    Wakeham  Female   \n",
       "3998         3999  Patrizius       None    Male   \n",
       "\n",
       "      past_3_years_bike_related_purchases        DOB job_title  \\\n",
       "3                                      33 1961-10-03       NaN   \n",
       "5                                      35 1966-09-16       NaN   \n",
       "6                                       6 1976-02-23       NaN   \n",
       "10                                     99 1954-04-30       NaN   \n",
       "21                                     79 1962-12-10       NaN   \n",
       "...                                   ...        ...       ...   \n",
       "3967                                   99 1977-12-22       NaN   \n",
       "3971                                    6 1979-03-28       NaN   \n",
       "3978                                   67 1974-07-13       NaN   \n",
       "3986                                   18 1964-05-29       NaN   \n",
       "3998                                   11 1973-10-24       NaN   \n",
       "\n",
       "     job_industry_category     wealth_segment deceased_indicator owns_car  \\\n",
       "3                       IT      Mass Customer                  N       No   \n",
       "5                   Retail     High Net Worth                  N      Yes   \n",
       "6       Financial Services  Affluent Customer                  N      Yes   \n",
       "10                Property      Mass Customer                  N       No   \n",
       "21                      IT      Mass Customer                  N       No   \n",
       "...                    ...                ...                ...      ...   \n",
       "3967              Property     High Net Worth                  N       No   \n",
       "3971                Retail      Mass Customer                  N       No   \n",
       "3978    Financial Services      Mass Customer                  N      Yes   \n",
       "3986           Argiculture      Mass Customer                  N       No   \n",
       "3998         Manufacturing  Affluent Customer                  N      Yes   \n",
       "\n",
       "      tenure  Age  \n",
       "3        7.0   61  \n",
       "5       13.0   56  \n",
       "6       11.0   47  \n",
       "10       9.0   69  \n",
       "21      11.0   60  \n",
       "...      ...  ...  \n",
       "3967    22.0   45  \n",
       "3971     8.0   44  \n",
       "3978    18.0   48  \n",
       "3986     7.0   58  \n",
       "3998    10.0   49  \n",
       "\n",
       "[497 rows x 13 columns]"
      ]
     },
     "execution_count": 25,
     "metadata": {},
     "output_type": "execute_result"
    }
   ],
   "source": [
    "# Fetching records where Job Title is missing.\n",
    "\n",
    "customer_demo[customer_demo['job_title'].isnull()]"
   ]
  },
  {
   "cell_type": "markdown",
   "id": "4672a354",
   "metadata": {},
   "source": [
    "Since Percentage of missing Job is 13. We will replace null values with Missing."
   ]
  },
  {
   "cell_type": "code",
   "execution_count": 26,
   "id": "25b166de",
   "metadata": {},
   "outputs": [],
   "source": [
    "customer_demo['job_title'].fillna('Missing', inplace=True, axis=0)\n"
   ]
  },
  {
   "cell_type": "code",
   "execution_count": 27,
   "id": "3fc0d81d",
   "metadata": {},
   "outputs": [
    {
     "data": {
      "text/plain": [
       "0"
      ]
     },
     "execution_count": 27,
     "metadata": {},
     "output_type": "execute_result"
    }
   ],
   "source": [
    "customer_demo['job_title'].isnull().sum()"
   ]
  },
  {
   "cell_type": "markdown",
   "id": "c8802055",
   "metadata": {},
   "source": [
    "Currently there are no mssing values for job_title column."
   ]
  },
  {
   "cell_type": "markdown",
   "id": "3dc64cbb",
   "metadata": {},
   "source": [
    "# 2.5 Job Industry Category"
   ]
  },
  {
   "cell_type": "code",
   "execution_count": 28,
   "id": "d051e12d",
   "metadata": {},
   "outputs": [
    {
     "data": {
      "text/html": [
       "<div>\n",
       "<style scoped>\n",
       "    .dataframe tbody tr th:only-of-type {\n",
       "        vertical-align: middle;\n",
       "    }\n",
       "\n",
       "    .dataframe tbody tr th {\n",
       "        vertical-align: top;\n",
       "    }\n",
       "\n",
       "    .dataframe thead th {\n",
       "        text-align: right;\n",
       "    }\n",
       "</style>\n",
       "<table border=\"1\" class=\"dataframe\">\n",
       "  <thead>\n",
       "    <tr style=\"text-align: right;\">\n",
       "      <th></th>\n",
       "      <th>customer_id</th>\n",
       "      <th>first_name</th>\n",
       "      <th>last_name</th>\n",
       "      <th>gender</th>\n",
       "      <th>past_3_years_bike_related_purchases</th>\n",
       "      <th>DOB</th>\n",
       "      <th>job_title</th>\n",
       "      <th>job_industry_category</th>\n",
       "      <th>wealth_segment</th>\n",
       "      <th>deceased_indicator</th>\n",
       "      <th>owns_car</th>\n",
       "      <th>tenure</th>\n",
       "      <th>Age</th>\n",
       "    </tr>\n",
       "  </thead>\n",
       "  <tbody>\n",
       "    <tr>\n",
       "      <th>4</th>\n",
       "      <td>5</td>\n",
       "      <td>Sheila-kathryn</td>\n",
       "      <td>Calton</td>\n",
       "      <td>Female</td>\n",
       "      <td>56</td>\n",
       "      <td>1977-05-13</td>\n",
       "      <td>Senior Editor</td>\n",
       "      <td>NaN</td>\n",
       "      <td>Affluent Customer</td>\n",
       "      <td>N</td>\n",
       "      <td>Yes</td>\n",
       "      <td>8.0</td>\n",
       "      <td>46</td>\n",
       "    </tr>\n",
       "    <tr>\n",
       "      <th>7</th>\n",
       "      <td>8</td>\n",
       "      <td>Rod</td>\n",
       "      <td>Inder</td>\n",
       "      <td>Male</td>\n",
       "      <td>31</td>\n",
       "      <td>1962-03-30</td>\n",
       "      <td>Media Manager I</td>\n",
       "      <td>NaN</td>\n",
       "      <td>Mass Customer</td>\n",
       "      <td>N</td>\n",
       "      <td>No</td>\n",
       "      <td>7.0</td>\n",
       "      <td>61</td>\n",
       "    </tr>\n",
       "    <tr>\n",
       "      <th>15</th>\n",
       "      <td>16</td>\n",
       "      <td>Harlin</td>\n",
       "      <td>Parr</td>\n",
       "      <td>Male</td>\n",
       "      <td>38</td>\n",
       "      <td>1977-02-27</td>\n",
       "      <td>Media Manager IV</td>\n",
       "      <td>NaN</td>\n",
       "      <td>Mass Customer</td>\n",
       "      <td>N</td>\n",
       "      <td>Yes</td>\n",
       "      <td>18.0</td>\n",
       "      <td>46</td>\n",
       "    </tr>\n",
       "    <tr>\n",
       "      <th>16</th>\n",
       "      <td>17</td>\n",
       "      <td>Heath</td>\n",
       "      <td>Faraday</td>\n",
       "      <td>Male</td>\n",
       "      <td>57</td>\n",
       "      <td>1962-03-19</td>\n",
       "      <td>Sales Associate</td>\n",
       "      <td>NaN</td>\n",
       "      <td>Affluent Customer</td>\n",
       "      <td>N</td>\n",
       "      <td>Yes</td>\n",
       "      <td>15.0</td>\n",
       "      <td>61</td>\n",
       "    </tr>\n",
       "    <tr>\n",
       "      <th>17</th>\n",
       "      <td>18</td>\n",
       "      <td>Marjie</td>\n",
       "      <td>Neasham</td>\n",
       "      <td>Female</td>\n",
       "      <td>79</td>\n",
       "      <td>1967-07-06</td>\n",
       "      <td>Professor</td>\n",
       "      <td>NaN</td>\n",
       "      <td>Affluent Customer</td>\n",
       "      <td>N</td>\n",
       "      <td>No</td>\n",
       "      <td>11.0</td>\n",
       "      <td>55</td>\n",
       "    </tr>\n",
       "    <tr>\n",
       "      <th>...</th>\n",
       "      <td>...</td>\n",
       "      <td>...</td>\n",
       "      <td>...</td>\n",
       "      <td>...</td>\n",
       "      <td>...</td>\n",
       "      <td>...</td>\n",
       "      <td>...</td>\n",
       "      <td>...</td>\n",
       "      <td>...</td>\n",
       "      <td>...</td>\n",
       "      <td>...</td>\n",
       "      <td>...</td>\n",
       "      <td>...</td>\n",
       "    </tr>\n",
       "    <tr>\n",
       "      <th>3965</th>\n",
       "      <td>3966</td>\n",
       "      <td>Astrix</td>\n",
       "      <td>Sigward</td>\n",
       "      <td>Female</td>\n",
       "      <td>53</td>\n",
       "      <td>1968-09-15</td>\n",
       "      <td>Geologist I</td>\n",
       "      <td>NaN</td>\n",
       "      <td>Mass Customer</td>\n",
       "      <td>N</td>\n",
       "      <td>Yes</td>\n",
       "      <td>11.0</td>\n",
       "      <td>54</td>\n",
       "    </tr>\n",
       "    <tr>\n",
       "      <th>3973</th>\n",
       "      <td>3974</td>\n",
       "      <td>Misha</td>\n",
       "      <td>Ranklin</td>\n",
       "      <td>Female</td>\n",
       "      <td>82</td>\n",
       "      <td>1961-02-11</td>\n",
       "      <td>Technical Writer</td>\n",
       "      <td>NaN</td>\n",
       "      <td>Affluent Customer</td>\n",
       "      <td>N</td>\n",
       "      <td>Yes</td>\n",
       "      <td>9.0</td>\n",
       "      <td>62</td>\n",
       "    </tr>\n",
       "    <tr>\n",
       "      <th>3975</th>\n",
       "      <td>3976</td>\n",
       "      <td>Gretel</td>\n",
       "      <td>Chrystal</td>\n",
       "      <td>Female</td>\n",
       "      <td>0</td>\n",
       "      <td>1957-11-20</td>\n",
       "      <td>Internal Auditor</td>\n",
       "      <td>NaN</td>\n",
       "      <td>Affluent Customer</td>\n",
       "      <td>N</td>\n",
       "      <td>Yes</td>\n",
       "      <td>13.0</td>\n",
       "      <td>65</td>\n",
       "    </tr>\n",
       "    <tr>\n",
       "      <th>3982</th>\n",
       "      <td>3983</td>\n",
       "      <td>Jarred</td>\n",
       "      <td>Lyste</td>\n",
       "      <td>Male</td>\n",
       "      <td>19</td>\n",
       "      <td>1965-04-21</td>\n",
       "      <td>Graphic Designer</td>\n",
       "      <td>NaN</td>\n",
       "      <td>Mass Customer</td>\n",
       "      <td>N</td>\n",
       "      <td>Yes</td>\n",
       "      <td>9.0</td>\n",
       "      <td>58</td>\n",
       "    </tr>\n",
       "    <tr>\n",
       "      <th>3999</th>\n",
       "      <td>4000</td>\n",
       "      <td>Kippy</td>\n",
       "      <td>Oldland</td>\n",
       "      <td>Male</td>\n",
       "      <td>76</td>\n",
       "      <td>1991-11-05</td>\n",
       "      <td>Software Engineer IV</td>\n",
       "      <td>NaN</td>\n",
       "      <td>Affluent Customer</td>\n",
       "      <td>N</td>\n",
       "      <td>No</td>\n",
       "      <td>11.0</td>\n",
       "      <td>31</td>\n",
       "    </tr>\n",
       "  </tbody>\n",
       "</table>\n",
       "<p>656 rows × 13 columns</p>\n",
       "</div>"
      ],
      "text/plain": [
       "      customer_id      first_name last_name  gender  \\\n",
       "4               5  Sheila-kathryn    Calton  Female   \n",
       "7               8             Rod     Inder    Male   \n",
       "15             16          Harlin      Parr    Male   \n",
       "16             17           Heath   Faraday    Male   \n",
       "17             18          Marjie   Neasham  Female   \n",
       "...           ...             ...       ...     ...   \n",
       "3965         3966          Astrix   Sigward  Female   \n",
       "3973         3974           Misha   Ranklin  Female   \n",
       "3975         3976          Gretel  Chrystal  Female   \n",
       "3982         3983          Jarred     Lyste    Male   \n",
       "3999         4000           Kippy   Oldland    Male   \n",
       "\n",
       "      past_3_years_bike_related_purchases        DOB             job_title  \\\n",
       "4                                      56 1977-05-13         Senior Editor   \n",
       "7                                      31 1962-03-30       Media Manager I   \n",
       "15                                     38 1977-02-27      Media Manager IV   \n",
       "16                                     57 1962-03-19       Sales Associate   \n",
       "17                                     79 1967-07-06             Professor   \n",
       "...                                   ...        ...                   ...   \n",
       "3965                                   53 1968-09-15           Geologist I   \n",
       "3973                                   82 1961-02-11      Technical Writer   \n",
       "3975                                    0 1957-11-20      Internal Auditor   \n",
       "3982                                   19 1965-04-21      Graphic Designer   \n",
       "3999                                   76 1991-11-05  Software Engineer IV   \n",
       "\n",
       "     job_industry_category     wealth_segment deceased_indicator owns_car  \\\n",
       "4                      NaN  Affluent Customer                  N      Yes   \n",
       "7                      NaN      Mass Customer                  N       No   \n",
       "15                     NaN      Mass Customer                  N      Yes   \n",
       "16                     NaN  Affluent Customer                  N      Yes   \n",
       "17                     NaN  Affluent Customer                  N       No   \n",
       "...                    ...                ...                ...      ...   \n",
       "3965                   NaN      Mass Customer                  N      Yes   \n",
       "3973                   NaN  Affluent Customer                  N      Yes   \n",
       "3975                   NaN  Affluent Customer                  N      Yes   \n",
       "3982                   NaN      Mass Customer                  N      Yes   \n",
       "3999                   NaN  Affluent Customer                  N       No   \n",
       "\n",
       "      tenure  Age  \n",
       "4        8.0   46  \n",
       "7        7.0   61  \n",
       "15      18.0   46  \n",
       "16      15.0   61  \n",
       "17      11.0   55  \n",
       "...      ...  ...  \n",
       "3965    11.0   54  \n",
       "3973     9.0   62  \n",
       "3975    13.0   65  \n",
       "3982     9.0   58  \n",
       "3999    11.0   31  \n",
       "\n",
       "[656 rows x 13 columns]"
      ]
     },
     "execution_count": 28,
     "metadata": {},
     "output_type": "execute_result"
    }
   ],
   "source": [
    "customer_demo[customer_demo['job_industry_category'].isnull()]"
   ]
  },
  {
   "cell_type": "markdown",
   "id": "b36d79f2",
   "metadata": {},
   "source": [
    "Since Percentage of missing Job Industry Category is 16. We will replace null values with Missing"
   ]
  },
  {
   "cell_type": "code",
   "execution_count": 29,
   "id": "abf4d6a2",
   "metadata": {},
   "outputs": [],
   "source": [
    "customer_demo['job_industry_category'].fillna('Missing', inplace=True, axis=0)"
   ]
  },
  {
   "cell_type": "code",
   "execution_count": 30,
   "id": "206aaf59",
   "metadata": {},
   "outputs": [
    {
     "data": {
      "text/plain": [
       "0"
      ]
     },
     "execution_count": 30,
     "metadata": {},
     "output_type": "execute_result"
    }
   ],
   "source": [
    "customer_demo['job_industry_category'].isnull().sum()"
   ]
  },
  {
   "cell_type": "markdown",
   "id": "c2d19963",
   "metadata": {},
   "source": [
    "Finally there are no Missing Values in the dataset."
   ]
  },
  {
   "cell_type": "code",
   "execution_count": 31,
   "id": "f7b5cf69",
   "metadata": {},
   "outputs": [
    {
     "data": {
      "text/plain": [
       "customer_id                            0\n",
       "first_name                             0\n",
       "last_name                              0\n",
       "gender                                 0\n",
       "past_3_years_bike_related_purchases    0\n",
       "DOB                                    0\n",
       "job_title                              0\n",
       "job_industry_category                  0\n",
       "wealth_segment                         0\n",
       "deceased_indicator                     0\n",
       "owns_car                               0\n",
       "tenure                                 0\n",
       "Age                                    0\n",
       "dtype: int64"
      ]
     },
     "execution_count": 31,
     "metadata": {},
     "output_type": "execute_result"
    }
   ],
   "source": [
    "customer_demo.isnull().sum()"
   ]
  },
  {
   "cell_type": "code",
   "execution_count": 32,
   "id": "e784c3c9",
   "metadata": {},
   "outputs": [
    {
     "name": "stdout",
     "output_type": "stream",
     "text": [
      "Total records after removing Missing Values: 3912\n"
     ]
    }
   ],
   "source": [
    "print(\"Total records after removing Missing Values: {}\".format(customer_demo.shape[0]))"
   ]
  },
  {
   "cell_type": "markdown",
   "id": "985700b3",
   "metadata": {},
   "source": [
    "# 3. Inconsistency Check in Data"
   ]
  },
  {
   "cell_type": "markdown",
   "id": "95795949",
   "metadata": {},
   "source": [
    "We will check whether there is inconsistent data / typo error data is present in the categorical columns.\n",
    "The columns to be checked are 'gender', 'wealth_segment' ,'deceased_indicator', 'owns_car'"
   ]
  },
  {
   "cell_type": "markdown",
   "id": "da004cf5",
   "metadata": {},
   "source": [
    "# 3.1 Gender"
   ]
  },
  {
   "cell_type": "code",
   "execution_count": 33,
   "id": "b013d8a6",
   "metadata": {},
   "outputs": [
    {
     "data": {
      "text/plain": [
       "Female    2037\n",
       "Male      1872\n",
       "F            1\n",
       "Femal        1\n",
       "M            1\n",
       "Name: gender, dtype: int64"
      ]
     },
     "execution_count": 33,
     "metadata": {},
     "output_type": "execute_result"
    }
   ],
   "source": [
    "customer_demo['gender'].value_counts()"
   ]
  },
  {
   "cell_type": "code",
   "execution_count": 34,
   "id": "87eb1915",
   "metadata": {},
   "outputs": [],
   "source": [
    "# Function to replace full state names with their short forms.\n",
    "\n",
    "def replace_gender_names(gender):\n",
    "    \n",
    "    # Making Gender as Male and Female as standards\n",
    "    if gender =='F':\n",
    "        return 'Female'\n",
    "    elif gender =='M':\n",
    "        return 'Male'\n",
    "    elif gender == 'Femal':\n",
    "        return 'Female'\n",
    "    else :\n",
    "        return gender\n",
    "\n",
    "# Applying the above fuction to gender\n",
    "customer_demo['gender'] = customer_demo['gender'].apply(replace_gender_names)"
   ]
  },
  {
   "cell_type": "code",
   "execution_count": 35,
   "id": "3e66b681",
   "metadata": {},
   "outputs": [
    {
     "data": {
      "text/plain": [
       "Female    2039\n",
       "Male      1873\n",
       "Name: gender, dtype: int64"
      ]
     },
     "execution_count": 35,
     "metadata": {},
     "output_type": "execute_result"
    }
   ],
   "source": [
    "customer_demo['gender'].value_counts()"
   ]
  },
  {
   "cell_type": "markdown",
   "id": "2b798a4c",
   "metadata": {},
   "source": [
    "The inconsistent data ,spelling mistakes and typos in gender column are removed."
   ]
  },
  {
   "cell_type": "markdown",
   "id": "02416147",
   "metadata": {},
   "source": [
    "# 3.3 Deceased Indicator"
   ]
  },
  {
   "cell_type": "markdown",
   "id": "2a23fd74",
   "metadata": {},
   "source": [
    "There is no inconsistent data in deceased_indicator column."
   ]
  },
  {
   "cell_type": "code",
   "execution_count": 36,
   "id": "73ea579d",
   "metadata": {},
   "outputs": [
    {
     "data": {
      "text/plain": [
       "N    3910\n",
       "Y       2\n",
       "Name: deceased_indicator, dtype: int64"
      ]
     },
     "execution_count": 36,
     "metadata": {},
     "output_type": "execute_result"
    }
   ],
   "source": [
    "customer_demo['deceased_indicator'].value_counts()"
   ]
  },
  {
   "cell_type": "markdown",
   "id": "75ed30e4",
   "metadata": {},
   "source": [
    "# 3.4 Owns a Car "
   ]
  },
  {
   "cell_type": "markdown",
   "id": "f269eddd",
   "metadata": {},
   "source": [
    "There is no inconsistent data in owns_car column."
   ]
  },
  {
   "cell_type": "code",
   "execution_count": 37,
   "id": "71c120b0",
   "metadata": {},
   "outputs": [
    {
     "data": {
      "text/plain": [
       "Yes    1974\n",
       "No     1938\n",
       "Name: owns_car, dtype: int64"
      ]
     },
     "execution_count": 37,
     "metadata": {},
     "output_type": "execute_result"
    }
   ],
   "source": [
    "customer_demo['owns_car'].value_counts()"
   ]
  },
  {
   "cell_type": "markdown",
   "id": "3df031f4",
   "metadata": {},
   "source": [
    "# 4. Duplication Checks"
   ]
  },
  {
   "cell_type": "markdown",
   "id": "b234bc15",
   "metadata": {},
   "source": [
    "We need to ensure that there is no duplication of records in the dataset. This may lead to error in data analysis due to poor data quality. If there are duplicate rows of data then we need to drop such records.\n",
    "For checking for duplicate records we need to firstly remove the primary key column of the dataset then apply drop_duplicates() function provided by Python."
   ]
  },
  {
   "cell_type": "code",
   "execution_count": 38,
   "id": "837cd864",
   "metadata": {},
   "outputs": [
    {
     "name": "stdout",
     "output_type": "stream",
     "text": [
      "Number of records after removing customer_id (pk), duplicates : 3912\n",
      "Number of records in original dataset : 3912\n"
     ]
    }
   ],
   "source": [
    "customer_demo_dedupped = customer_demo.drop('customer_id', axis=1).drop_duplicates()\n",
    "\n",
    "print(\"Number of records after removing customer_id (pk), duplicates : {}\".format(customer_demo_dedupped.shape[0]))\n",
    "print(\"Number of records in original dataset : {}\".format(customer_demo.shape[0]))"
   ]
  },
  {
   "cell_type": "markdown",
   "id": "085e6db7",
   "metadata": {},
   "source": [
    "Since both the numbers are same. There are no duplicate records in the dataset."
   ]
  },
  {
   "cell_type": "markdown",
   "id": "848ace23",
   "metadata": {},
   "source": [
    "# 5. Exporting the Cleaned Customer Demographic Data Set to csv"
   ]
  },
  {
   "cell_type": "markdown",
   "id": "8854dd25",
   "metadata": {},
   "source": [
    "Currently the Customer Demographics dataset is clean. Hence we can export the data to a csv to continue our data analysis of Customer Segments by joining it to other tables."
   ]
  },
  {
   "cell_type": "code",
   "execution_count": 39,
   "id": "a9818056",
   "metadata": {},
   "outputs": [],
   "source": [
    "customer_demo.to_csv('CustomerDemographic_Cleaned.csv', index=False)"
   ]
  },
  {
   "cell_type": "code",
   "execution_count": null,
   "id": "f2a77b38",
   "metadata": {},
   "outputs": [],
   "source": []
  }
 ],
 "metadata": {
  "kernelspec": {
   "display_name": "Python 3 (ipykernel)",
   "language": "python",
   "name": "python3"
  },
  "language_info": {
   "codemirror_mode": {
    "name": "ipython",
    "version": 3
   },
   "file_extension": ".py",
   "mimetype": "text/x-python",
   "name": "python",
   "nbconvert_exporter": "python",
   "pygments_lexer": "ipython3",
   "version": "3.9.13"
  }
 },
 "nbformat": 4,
 "nbformat_minor": 5
}
